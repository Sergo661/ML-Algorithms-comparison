{
 "cells": [
  {
   "cell_type": "code",
   "execution_count": 2,
   "metadata": {},
   "outputs": [
    {
     "name": "stdout",
     "output_type": "stream",
     "text": [
      "<class 'pandas.core.frame.DataFrame'>\n",
      "RangeIndex: 2706 entries, 0 to 2705\n",
      "Data columns (total 10 columns):\n",
      " #   Column                            Non-Null Count  Dtype  \n",
      "---  ------                            --------------  -----  \n",
      " 0   Student ID                        2706 non-null   int64  \n",
      " 1   FirstEnrolled_MajorCode           2706 non-null   object \n",
      " 2   College                           2706 non-null   object \n",
      " 3   FincialAid_Received_AtLeast_Once  2706 non-null   int64  \n",
      " 4   FirstEnrolled_Year                2706 non-null   int64  \n",
      " 5   Gender                            2706 non-null   object \n",
      " 6   School_GPA                        2694 non-null   float64\n",
      " 7   RoA                               2703 non-null   float64\n",
      " 8   FirstYear_CGPA                    2668 non-null   float64\n",
      " 9   All_CGPA                          1303 non-null   float64\n",
      "dtypes: float64(4), int64(3), object(3)\n",
      "memory usage: 211.5+ KB\n"
     ]
    },
    {
     "data": {
      "text/plain": [
       "(    Student ID FirstEnrolled_MajorCode College  \\\n",
       " 0   6272306053                     BAB     CBE   \n",
       " 1   4184934942                     BAB     CBE   \n",
       " 2   4694379187                    BSCS     CSE   \n",
       " 3   4219043039                     BAB     CBE   \n",
       " 4  14975762474                     BAB     CBE   \n",
       " \n",
       "    FincialAid_Received_AtLeast_Once  FirstEnrolled_Year Gender  School_GPA  \\\n",
       " 0                                 0                2014   Male       3.810   \n",
       " 1                                 0                2018   Male       4.125   \n",
       " 2                                 0                2013   Male       4.000   \n",
       " 3                                 0                2015   Male       3.565   \n",
       " 4                                 0                2015   Male       3.900   \n",
       " \n",
       "    RoA  FirstYear_CGPA  All_CGPA  \n",
       " 0  1.0        0.188889  0.188889  \n",
       " 1  1.0             NaN       NaN  \n",
       " 2  1.0        0.855556  0.855556  \n",
       " 3  1.0        2.250000  2.751282  \n",
       " 4  1.0        2.300000  1.525000  ,\n",
       " None)"
      ]
     },
     "execution_count": 2,
     "metadata": {},
     "output_type": "execute_result"
    }
   ],
   "source": [
    "import pandas as pd\n",
    "file_path = 'C:\\\\Users\\\\Aksel\\\\Downloads\\\\DS_student_request (1).xlsx'\n",
    "data = pd.read_excel(file_path)\n",
    "data.head(), data.info()"
   ]
  },
  {
   "cell_type": "code",
   "execution_count": 3,
   "metadata": {},
   "outputs": [
    {
     "name": "stdout",
     "output_type": "stream",
     "text": [
      "<class 'pandas.core.frame.DataFrame'>\n",
      "Index: 2654 entries, 0 to 2705\n",
      "Data columns (total 10 columns):\n",
      " #   Column                            Non-Null Count  Dtype  \n",
      "---  ------                            --------------  -----  \n",
      " 0   Student ID                        2654 non-null   int64  \n",
      " 1   FirstEnrolled_MajorCode           2654 non-null   object \n",
      " 2   College                           2654 non-null   object \n",
      " 3   FincialAid_Received_AtLeast_Once  2654 non-null   int64  \n",
      " 4   FirstEnrolled_Year                2654 non-null   int64  \n",
      " 5   Gender                            2654 non-null   object \n",
      " 6   School_GPA                        2654 non-null   float64\n",
      " 7   RoA                               2654 non-null   float64\n",
      " 8   FirstYear_CGPA                    2654 non-null   float64\n",
      " 9   All_CGPA                          2654 non-null   float64\n",
      "dtypes: float64(4), int64(3), object(3)\n",
      "memory usage: 228.1+ KB\n"
     ]
    },
    {
     "data": {
      "text/plain": [
       "(None,\n",
       "     Student ID FirstEnrolled_MajorCode College  \\\n",
       " 0   6272306053                     BAB     CBE   \n",
       " 2   4694379187                    BSCS     CSE   \n",
       " 3   4219043039                     BAB     CBE   \n",
       " 4  14975762474                     BAB     CBE   \n",
       " 6   6515007621                    BSCS     CSE   \n",
       " \n",
       "    FincialAid_Received_AtLeast_Once  FirstEnrolled_Year Gender  School_GPA  \\\n",
       " 0                                 0                2014   Male       3.810   \n",
       " 2                                 0                2013   Male       4.000   \n",
       " 3                                 0                2015   Male       3.565   \n",
       " 4                                 0                2015   Male       3.900   \n",
       " 6                                 0                2019   Male       4.180   \n",
       " \n",
       "    RoA  FirstYear_CGPA  All_CGPA  \n",
       " 0  1.0        0.188889  0.188889  \n",
       " 2  1.0        0.855556  0.855556  \n",
       " 3  1.0        2.250000  2.751282  \n",
       " 4  1.0        2.300000  1.525000  \n",
       " 6  1.0        2.154545  3.061533  )"
      ]
     },
     "execution_count": 3,
     "metadata": {},
     "output_type": "execute_result"
    }
   ],
   "source": [
    "cleaned_data = data.dropna(subset=['School_GPA', 'RoA', 'FirstYear_CGPA'])\n",
    "\n",
    "average_firstyear_cgpa_BSDS_BSES = cleaned_data[\n",
    "    cleaned_data['FirstEnrolled_MajorCode'].isin(['BSDS', 'BSES'])\n",
    "]['FirstYear_CGPA'].mean()\n",
    "\n",
    "cleaned_data.loc[\n",
    "    cleaned_data['FirstEnrolled_MajorCode'].isin(['BSDS', 'BSES']) & cleaned_data['All_CGPA'].isnull(),\n",
    "    'All_CGPA'\n",
    "] = average_firstyear_cgpa_BSDS_BSES\n",
    "\n",
    "average_all_cgpa_others = cleaned_data['All_CGPA'].mean()\n",
    "\n",
    "cleaned_data.loc[\n",
    "    ~cleaned_data['FirstEnrolled_MajorCode'].isin(['BSDS', 'BSES']) & cleaned_data['All_CGPA'].isnull(),\n",
    "    'All_CGPA'\n",
    "] = average_all_cgpa_others\n",
    "\n",
    "cleaned_data.info(), cleaned_data.head()"
   ]
  },
  {
   "cell_type": "code",
   "execution_count": 127,
   "metadata": {},
   "outputs": [
    {
     "name": "stdout",
     "output_type": "stream",
     "text": [
      "<class 'pandas.core.frame.DataFrame'>\n",
      "RangeIndex: 3654 entries, 0 to 3653\n",
      "Data columns (total 10 columns):\n",
      " #   Column                            Non-Null Count  Dtype  \n",
      "---  ------                            --------------  -----  \n",
      " 0   Student ID                        3654 non-null   int64  \n",
      " 1   FirstEnrolled_MajorCode           3654 non-null   object \n",
      " 2   College                           3654 non-null   object \n",
      " 3   FincialAid_Received_AtLeast_Once  3654 non-null   int64  \n",
      " 4   FirstEnrolled_Year                3654 non-null   int64  \n",
      " 5   Gender                            3654 non-null   object \n",
      " 6   School_GPA                        3654 non-null   float64\n",
      " 7   RoA                               3654 non-null   float64\n",
      " 8   FirstYear_CGPA                    3654 non-null   float64\n",
      " 9   All_CGPA                          3654 non-null   float64\n",
      "dtypes: float64(4), int64(3), object(3)\n",
      "memory usage: 285.6+ KB\n"
     ]
    },
    {
     "data": {
      "text/plain": [
       "(    Student ID FirstEnrolled_MajorCode College  \\\n",
       " 0   6272306053                     BAB     CBE   \n",
       " 1   4694379187                    BSCS     CSE   \n",
       " 2   4219043039                     BAB     CBE   \n",
       " 3  14975762474                     BAB     CBE   \n",
       " 4   6515007621                    BSCS     CSE   \n",
       " \n",
       "    FincialAid_Received_AtLeast_Once  FirstEnrolled_Year Gender  School_GPA  \\\n",
       " 0                                 0                2014   Male       3.810   \n",
       " 1                                 0                2013   Male       4.000   \n",
       " 2                                 0                2015   Male       3.565   \n",
       " 3                                 0                2015   Male       3.900   \n",
       " 4                                 0                2019   Male       4.180   \n",
       " \n",
       "    RoA  FirstYear_CGPA  All_CGPA  \n",
       " 0  1.0        0.188889  0.188889  \n",
       " 1  1.0        0.855556  0.855556  \n",
       " 2  1.0        2.250000  2.751282  \n",
       " 3  1.0        2.300000  1.525000  \n",
       " 4  1.0        2.154545  3.061533  ,\n",
       " None)"
      ]
     },
     "execution_count": 127,
     "metadata": {},
     "output_type": "execute_result"
    }
   ],
   "source": [
    "import numpy as np\n",
    "gender_counts = data['Gender'].value_counts()\n",
    "female_to_male_ratio = gender_counts['Female'] / gender_counts['Male']\n",
    "major_counts_2019 = data[data['FirstEnrolled_Year'] == 2019]['FirstEnrolled_MajorCode'].value_counts()\n",
    "total_2019 = major_counts_2019.sum()\n",
    "major_ratios_2019 = major_counts_2019 / total_2019\n",
    "\n",
    "# Generate 1000 new data points\n",
    "new_data_size = 1000\n",
    "new_data = pd.DataFrame({\n",
    "    'Student ID': np.random.randint(1000, 999999, new_data_size),\n",
    "    'FirstEnrolled_MajorCode': np.random.choice(major_ratios_2019.index, new_data_size, p=major_ratios_2019.values),\n",
    "    'College': np.random.choice(cleaned_data['College'].unique(), new_data_size),\n",
    "    'FincialAid_Received_AtLeast_Once': np.random.choice([0, 1], new_data_size, p=[0.7, 0.3]),\n",
    "    'FirstEnrolled_Year': np.random.choice(cleaned_data['FirstEnrolled_Year'].unique(), new_data_size),\n",
    "    'Gender': np.random.choice(['Male', 'Female'], new_data_size, p=[1/(1 + female_to_male_ratio), female_to_male_ratio/(1 + female_to_male_ratio)]),\n",
    "    'School_GPA': np.random.normal(3.0, 0.5, new_data_size).clip(0, 4),\n",
    "    'RoA': np.random.uniform(0, 1, new_data_size),\n",
    "    'FirstYear_CGPA': np.random.normal(2.7, 0.6, new_data_size).clip(0, 4),\n",
    "    'All_CGPA': np.random.normal(2.8, 0.5, new_data_size).clip(0, 4)\n",
    "})\n",
    "\n",
    "extended_data = pd.concat([cleaned_data, new_data], ignore_index=True)\n",
    "extended_data.head(), extended_data.info()"
   ]
  },
  {
   "cell_type": "code",
   "execution_count": 128,
   "metadata": {},
   "outputs": [
    {
     "data": {
      "text/plain": [
       "((2923, 11), (731, 11), (2923,), (731,))"
      ]
     },
     "execution_count": 128,
     "metadata": {},
     "output_type": "execute_result"
    }
   ],
   "source": [
    "from sklearn.model_selection import train_test_split\n",
    "from sklearn.preprocessing import StandardScaler, OneHotEncoder\n",
    "from sklearn.compose import ColumnTransformer\n",
    "from sklearn.pipeline import Pipeline\n",
    "\n",
    "features = extended_data.drop(['FirstEnrolled_MajorCode', 'Student ID'], axis=1)\n",
    "target = extended_data['FirstEnrolled_MajorCode']\n",
    "\n",
    "categorical_cols = ['College', 'Gender']\n",
    "numerical_cols = ['FincialAid_Received_AtLeast_Once', 'FirstEnrolled_Year', 'School_GPA', 'RoA', 'FirstYear_CGPA', 'All_CGPA']\n",
    "\n",
    "preprocessor = ColumnTransformer(\n",
    "    transformers=[\n",
    "        ('num', StandardScaler(), numerical_cols),\n",
    "        ('cat', OneHotEncoder(), categorical_cols)\n",
    "    ])\n",
    "\n",
    "X_processed = preprocessor.fit_transform(features)\n",
    "y = target\n",
    "X_train, X_test, y_train, y_test = train_test_split(X_processed, y, test_size=0.2, random_state=42)\n",
    "X_train.shape, X_test.shape, y_train.shape, y_test.shape"
   ]
  },
  {
   "cell_type": "code",
   "execution_count": 129,
   "metadata": {},
   "outputs": [],
   "source": [
    "import torch\n",
    "import torch.nn as nn\n",
    "import torch.optim as optim\n",
    "from sklearn.preprocessing import LabelEncoder\n",
    "\n",
    "X_train_tensor = torch.tensor(X_train.astype(np.float32))\n",
    "X_test_tensor = torch.tensor(X_test.astype(np.float32))\n",
    "label_encoder = LabelEncoder()\n",
    "y_train_encoded = label_encoder.fit_transform(y_train)\n",
    "y_test_encoded = label_encoder.transform(y_test)\n",
    "\n",
    "y_train_tensor = torch.tensor(y_train_encoded, dtype=torch.long)\n",
    "y_test_tensor = torch.tensor(y_test_encoded, dtype=torch.long)\n",
    "\n",
    "class MajorClassifier(nn.Module):\n",
    "    def __init__(self):\n",
    "        super(MajorClassifier, self).__init__()\n",
    "        self.fc1 = nn.Linear(11, 50)  \n",
    "        self.relu1 = nn.ReLU()\n",
    "        self.fc2 = nn.Linear(50, 100) \n",
    "        self.relu2 = nn.ReLU()\n",
    "        self.fc3 = nn.Linear(100, len(label_encoder.classes_)) \n",
    "        self.output = nn.LogSoftmax(dim=1)  \n",
    "\n",
    "    def forward(self, x):\n",
    "        x = self.fc1(x)\n",
    "        x = self.relu1(x)\n",
    "        x = self.fc2(x)\n",
    "        x = self.relu2(x)\n",
    "        x = self.fc3(x)\n",
    "        x = self.output(x)\n",
    "        return x"
   ]
  },
  {
   "cell_type": "code",
   "execution_count": 130,
   "metadata": {},
   "outputs": [
    {
     "name": "stdout",
     "output_type": "stream",
     "text": [
      "Epoch 1, Loss: 1.6402699947357178\n",
      "Epoch 11, Loss: 1.4814947843551636\n",
      "Epoch 21, Loss: 1.3462677001953125\n",
      "Epoch 31, Loss: 1.228739857673645\n",
      "Epoch 41, Loss: 1.11893630027771\n",
      "Epoch 51, Loss: 1.0037747621536255\n",
      "Epoch 61, Loss: 0.889211118221283\n",
      "Epoch 71, Loss: 0.7948667407035828\n",
      "Epoch 81, Loss: 0.7334996461868286\n",
      "Epoch 91, Loss: 0.6963427662849426\n",
      "Epoch 101, Loss: 0.6715265512466431\n",
      "Epoch 111, Loss: 0.6532267928123474\n",
      "Epoch 121, Loss: 0.6392197608947754\n",
      "Epoch 131, Loss: 0.6279963850975037\n",
      "Epoch 141, Loss: 0.6188517808914185\n",
      "Epoch 151, Loss: 0.6111183166503906\n",
      "Epoch 161, Loss: 0.6043619513511658\n",
      "Epoch 171, Loss: 0.5982673764228821\n",
      "Epoch 181, Loss: 0.5923008322715759\n",
      "Epoch 191, Loss: 0.5865849256515503\n",
      "Epoch 201, Loss: 0.5808503031730652\n",
      "Epoch 211, Loss: 0.5749527215957642\n",
      "Epoch 221, Loss: 0.5689849257469177\n",
      "Epoch 231, Loss: 0.5629221796989441\n",
      "Epoch 241, Loss: 0.5567079186439514\n",
      "Epoch 251, Loss: 0.5503956079483032\n",
      "Epoch 261, Loss: 0.5441153049468994\n",
      "Epoch 271, Loss: 0.5378708243370056\n",
      "Epoch 281, Loss: 0.531782865524292\n",
      "Epoch 291, Loss: 0.5258563160896301\n"
     ]
    }
   ],
   "source": [
    "model = MajorClassifier()\n",
    "criterion = nn.CrossEntropyLoss()\n",
    "optimizer = optim.Adam(model.parameters(), lr=0.001)\n",
    "\n",
    "num_epochs = 300\n",
    "for epoch in range(num_epochs):\n",
    "    optimizer.zero_grad()\n",
    "    outputs = model(X_train_tensor)\n",
    "    loss = criterion(outputs, y_train_tensor)\n",
    "    loss.backward()\n",
    "    optimizer.step()\n",
    "\n",
    "    if epoch % 10 == 0:\n",
    "        print(f'Epoch {epoch+1}, Loss: {loss.item()}')"
   ]
  },
  {
   "cell_type": "code",
   "execution_count": 131,
   "metadata": {},
   "outputs": [
    {
     "name": "stdout",
     "output_type": "stream",
     "text": [
      "Accuracy: 80.43775649794802%\n"
     ]
    }
   ],
   "source": [
    "with torch.no_grad():\n",
    "    outputs = model(X_test_tensor)\n",
    "    _, predicted = torch.max(outputs.data, 1)\n",
    "    correct = (predicted == y_test_tensor).sum().item()\n",
    "    total = y_test_tensor.size(0)\n",
    "    print(f'Accuracy: {100 * correct / total}%')"
   ]
  }
 ],
 "metadata": {
  "kernelspec": {
   "display_name": "Python 3",
   "language": "python",
   "name": "python3"
  },
  "language_info": {
   "codemirror_mode": {
    "name": "ipython",
    "version": 3
   },
   "file_extension": ".py",
   "mimetype": "text/x-python",
   "name": "python",
   "nbconvert_exporter": "python",
   "pygments_lexer": "ipython3",
   "version": "3.11.7"
  }
 },
 "nbformat": 4,
 "nbformat_minor": 2
}
